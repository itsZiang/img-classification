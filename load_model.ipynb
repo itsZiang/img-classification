{
 "cells": [
  {
   "cell_type": "code",
   "execution_count": null,
   "metadata": {},
   "outputs": [],
   "source": [
    "import cv2\n",
    "import numpy as np\n",
    "from tensorflow.keras.models import load_model\n",
    "import matplotlib.pyplot as plt\n",
    "\n",
    "# Tải lên ảnh từ máy tính\n",
    "\n",
    "image_path = 'bicycle.png'\n",
    "img = cv2.imread(image_path)\n",
    "\n",
    "# Hiển thị ảnh\n",
    "plt.imshow(cv2.cvtColor(img, cv2.COLOR_BGR2RGB))\n",
    "plt.axis('off')\n",
    "plt.show()\n",
    "\n",
    "# Chuyển đổi ảnh thành định dạng phù hợp để đưa vào mô hình\n",
    "img = cv2.resize(img, (224, 224))  \n",
    "img = np.expand_dims(img, axis=0)  \n",
    "\n",
    "img = img / 255.0  \n",
    "\n",
    "# Load mô hình đã được đào tạo\n",
    "model = load_model('weights.24-0.15.h5') \n",
    "labels = {0: 'bicycle', 1: 'motorbike'}\n",
    "\n",
    "# Dự đoán lớp của ảnh\n",
    "predictions = model.predict(img)\n",
    "\n",
    "# Hiển thị kết quả dự đoán\n",
    "pred = np.argmax(predictions)\n",
    "print(labels[pred])"
   ]
  }
 ],
 "metadata": {
  "language_info": {
   "name": "python"
  }
 },
 "nbformat": 4,
 "nbformat_minor": 2
}
